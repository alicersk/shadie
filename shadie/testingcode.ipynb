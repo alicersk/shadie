{
 "cells": [
  {
   "cell_type": "code",
   "execution_count": 62,
   "metadata": {},
   "outputs": [],
   "source": [
    "import msprime as ms\n",
    "import toytree\n",
    "import numpy as np\n",
    "import pandas as pd"
   ]
  },
  {
   "cell_type": "code",
   "execution_count": 15,
   "metadata": {},
   "outputs": [],
   "source": [
    "def _get_demography(self):\n",
    "        \"\"\"\n",
    "        Returns demography scenario based on an input tree and admixture\n",
    "        edge list with events in the format (source, dest, start, end, rate).\n",
    "        Time on the tree is defined in units of generations.\n",
    "        \"\"\"\n",
    "        # Define demographic events for msprime\n",
    "        demog = set()\n",
    "\n",
    "        # tag min index child for each node, since at the time the node is\n",
    "        # called it may already be renamed by its child index b/c of\n",
    "        # divergence events.\n",
    "        for node in self.tree.treenode.traverse():\n",
    "            if node.children:\n",
    "                node._schild = min([i.idx for i in node.get_descendants()])\n",
    "            else:\n",
    "                node._schild = node.idx\n",
    "\n",
    "        # traverse tree from root to tips\n",
    "        for node in self.tree.treenode.traverse():\n",
    "\n",
    "            # if children add div events\n",
    "            if node.children:\n",
    "                dest = min([i._schild for i in node.children])\n",
    "                source = max([i._schild for i in node.children])\n",
    "                time = node.height  # int(node.height)\n",
    "                demog.add(ms.MassMigration(time, source, dest))\n",
    "\n",
    "                # for all nodes set Ne changes\n",
    "                demog.add(ms.PopulationParametersChange(\n",
    "                    time,\n",
    "                    initial_size=node.Ne,\n",
    "                    population=dest),\n",
    "                )\n",
    "\n",
    "            # tips set populations sizes (popconfig seemings does this too,\n",
    "            # but it didn't actually work for tips until I added this...\n",
    "            else:\n",
    "                time = node.height  # int(node.height)\n",
    "                demog.add(ms.PopulationParametersChange(\n",
    "                    time,\n",
    "                    initial_size=node.Ne,\n",
    "                    population=node.idx,\n",
    "                ))\n",
    "\n",
    "            # debugging helper\n",
    "            if self._debug:\n",
    "                print(\n",
    "                    'div time:  {:>9}, {:>2} {:>2}, {:>2} {:>2}, Ne={}'\n",
    "                    .format(\n",
    "                        time, source, dest,\n",
    "                        node.children[0].idx, node.children[1].idx,\n",
    "                        node.Ne,\n",
    "                        ),\n",
    "                    file=sys.stderr,\n",
    "                )\n",
    "\n",
    "        # sort events by type (so that mass migrations come before pop size\n",
    "        # changes) and time\n",
    "        demog = sorted(list(demog), key=lambda x: x.type)\n",
    "        demog = sorted(demog, key=lambda x: x.time)\n",
    "        self.ms_demography = demog"
   ]
  },
  {
   "cell_type": "code",
   "execution_count": 95,
   "metadata": {},
   "outputs": [],
   "source": [
    "# generate a tree in toytree\n",
    "tree = toytree.rtree.baltree(ntips=6, treeheight=1e6)"
   ]
  },
  {
   "cell_type": "code",
   "execution_count": 322,
   "metadata": {},
   "outputs": [],
   "source": [
    "def _get_demography(self):\n",
    "        \"\"\"\n",
    "        Returns demography scenario based on an input tree and admixture\n",
    "        edge list with events in the format (source, dest, start, end, rate).\n",
    "        Time on the tree is defined in units of generations.\n",
    "        \"\"\"\n",
    "        # Define demographic events for msprime\n",
    "        demog = set()\n",
    "\n",
    "        # tag min index child for each node, since at the time the node is\n",
    "        # called it may already be renamed by its child index b/c of\n",
    "        # divergence events.\n",
    "        for node in self.treenode.traverse():\n",
    "            if node.children:\n",
    "                node._schild = min([i.idx for i in node.get_descendants()])\n",
    "            else:\n",
    "                node._schild = node.idx\n",
    "\n",
    "        # traverse tree from root to tips\n",
    "        for node in self.treenode.traverse():\n",
    "\n",
    "            # if children add div events\n",
    "            if node.children:\n",
    "                dest = min([i._schild for i in node.children])\n",
    "                source = max([i._schild for i in node.children])\n",
    "                time = node.height  # int(node.height)\n",
    "                demog.add(ms.MassMigration(time, source, dest))\n",
    "                print(dest, source, time)\n",
    "                "
   ]
  },
  {
   "cell_type": "code",
   "execution_count": 323,
   "metadata": {},
   "outputs": [
    {
     "name": "stdout",
     "output_type": "stream",
     "text": [
      "0 3 1000000.0\n",
      "3 5 666666.6666666667\n",
      "0 2 666666.6666666667\n",
      "3 4 333333.3333333334\n",
      "0 1 333333.3333333334\n"
     ]
    }
   ],
   "source": [
    "_get_demography(tree)"
   ]
  },
  {
   "cell_type": "code",
   "execution_count": 275,
   "metadata": {},
   "outputs": [],
   "source": [
    "def _treecrawl(self):\n",
    "        \"\"\"\n",
    "        Returns demography scenario based on an input tree and admixture\n",
    "        edge list with events in the format (source, dest, start, end, rate).\n",
    "        Time on the tree is defined in units of generations.\n",
    "        \"\"\"\n",
    "# Define demographic events for msprime\n",
    "        demog = None\n",
    "        dest = []\n",
    "\n",
    "        # traverse tree from root to tips\n",
    "        for node in self.treenode.traverse():\n",
    "\n",
    "            # if children add div events\n",
    "            if node.children:\n",
    "                source = np.array([[node.idx]])\n",
    "                time = np.array(int(node.height)) # int(node.height)\n",
    "                dest.extend([[i.idx for i in node.children]])\n",
    "                dest_len = [len(i) for i in dest]\n",
    "                for i in dest:\n",
    "                    if len(i) == max(dest_len):\n",
    "                        dests = i\n",
    "                        print(dests)"
   ]
  },
  {
   "cell_type": "code",
   "execution_count": 317,
   "metadata": {},
   "outputs": [],
   "source": [
    "def _treecrawl(self):\n",
    "        \"\"\"\n",
    "        Returns demography scenario based on an input tree and admixture\n",
    "        edge list with events in the format (source, dest, start, end, rate).\n",
    "        Time on the tree is defined in units of generations.\n",
    "        \"\"\"\n",
    "# Define demographic events for msprime\n",
    "        demogdf = pd.DataFrame()\n",
    "    \n",
    "\n",
    "        # traverse tree from root to tips\n",
    "        for node in self.treenode.traverse():\n",
    "\n",
    "            # if children add div events\n",
    "            if node.children:\n",
    "                source = np.array(node.idx)\n",
    "                time = np.array(int(node.height)) # int(node.height)\n",
    "                dest = np.array([i.idx for i in node.children])\n",
    "                demogdf['time'] = time\n",
    "                demogdf['source'] = source\n",
    "                #return demogdf\n",
    "                #return(dest.tolist())\n",
    "                print(dest[0], dest[1], source, time)"
   ]
  },
  {
   "cell_type": "code",
   "execution_count": 321,
   "metadata": {},
   "outputs": [
    {
     "name": "stdout",
     "output_type": "stream",
     "text": [
      "9 8 10 1000000\n",
      "5 7 9 666666\n",
      "2 6 8 666666\n",
      "4 3 7 333333\n",
      "1 0 6 333333\n"
     ]
    }
   ],
   "source": [
    "_treecrawl(tree)"
   ]
  },
  {
   "cell_type": "code",
   "execution_count": null,
   "metadata": {},
   "outputs": [],
   "source": [
    "#define the function#\n",
    "def find_max_list(list):\n",
    "    list_len = [len(i) for i in list]\n",
    "    print(max(list_len))\n",
    "\n",
    "#print output#\n",
    "find_max_list(your_list)"
   ]
  },
  {
   "cell_type": "code",
   "execution_count": 203,
   "metadata": {},
   "outputs": [
    {
     "data": {
      "text/html": [
       "<div class=\"toyplot\" id=\"t593c1f62f9a34bf491904f84853cd0b2\" style=\"text-align:center\"><svg class=\"toyplot-canvas-Canvas\" xmlns:toyplot=\"http://www.sandia.gov/toyplot\" xmlns:xlink=\"http://www.w3.org/1999/xlink\" xmlns=\"http://www.w3.org/2000/svg\" width=\"260.0px\" height=\"275.0px\" viewBox=\"0 0 260.0 275.0\" preserveAspectRatio=\"xMidYMid meet\" style=\"background-color:transparent;border-color:#292724;border-style:none;border-width:1.0;fill:rgb(16.1%,15.3%,14.1%);fill-opacity:1.0;font-family:Helvetica;font-size:12px;opacity:1.0;stroke:rgb(16.1%,15.3%,14.1%);stroke-opacity:1.0;stroke-width:1.0\" id=\"tb58660eb0f5d4447b1fa60905a2daf78\"><g class=\"toyplot-coordinates-Cartesian\" id=\"t68f20ffe77724ff1a5034bf508153648\"><clipPath id=\"t7c07ff5f5b9c4de0804920a4927fafb5\"><rect x=\"30.0\" y=\"30.0\" width=\"200.0\" height=\"215.0\"></rect></clipPath><g clip-path=\"url(#t7c07ff5f5b9c4de0804920a4927fafb5)\"><g class=\"toytree-mark-Toytree\" id=\"t9d10a29ef9964f8e9721f800a900043c\"><g class=\"toytree-Edges\" style=\"fill:none;stroke:rgb(14.9%,14.9%,14.9%);stroke-linecap:round;stroke-opacity:1;stroke-width:2\"><path d=\"M 50.0 129.9 L 50.0 84.0 L 97.8 84.0\" id=\"10,9\"></path><path d=\"M 50.0 129.9 L 50.0 175.7 L 97.8 175.7\" id=\"10,8\"></path><path d=\"M 97.8 84.0 L 97.8 106.9 L 145.5 106.9\" id=\"9,7\"></path><path d=\"M 97.8 175.7 L 97.8 198.7 L 145.5 198.7\" id=\"8,6\"></path><path d=\"M 97.8 84.0 L 97.8 61.0 L 193.3 61.0\" id=\"9,5\"></path><path d=\"M 145.5 106.9 L 145.5 91.6 L 193.3 91.6\" id=\"7,4\"></path><path d=\"M 145.5 106.9 L 145.5 122.2 L 193.3 122.2\" id=\"7,3\"></path><path d=\"M 97.8 175.7 L 97.8 152.8 L 193.3 152.8\" id=\"8,2\"></path><path d=\"M 145.5 198.7 L 145.5 183.4 L 193.3 183.4\" id=\"6,1\"></path><path d=\"M 145.5 198.7 L 145.5 214.0 L 193.3 214.0\" id=\"6,0\"></path></g><g class=\"toytree-Nodes\" style=\"fill:rgb(40%,76.1%,64.7%);fill-opacity:1.0;stroke:None;stroke-width:1\"><g id=\"node-0\" transform=\"translate(193.282,213.986)\"><circle r=\"0.0\"></circle></g><g id=\"node-1\" transform=\"translate(193.282,183.392)\"><circle r=\"0.0\"></circle></g><g id=\"node-2\" transform=\"translate(193.282,152.797)\"><circle r=\"0.0\"></circle></g><g id=\"node-3\" transform=\"translate(193.282,122.203)\"><circle r=\"0.0\"></circle></g><g id=\"node-4\" transform=\"translate(193.282,91.608)\"><circle r=\"0.0\"></circle></g><g id=\"node-5\" transform=\"translate(193.282,61.014)\"><circle r=\"0.0\"></circle></g><g id=\"node-6\" transform=\"translate(145.521,198.689)\"><circle r=\"12.5\"></circle></g><g id=\"node-7\" transform=\"translate(145.521,106.906)\"><circle r=\"12.5\"></circle></g><g id=\"node-8\" transform=\"translate(97.761,175.743)\"><circle r=\"12.5\"></circle></g><g id=\"node-9\" transform=\"translate(97.761,83.960)\"><circle r=\"12.5\"></circle></g><g id=\"node-10\" transform=\"translate(50.000,129.851)\"><circle r=\"0.0\"></circle></g></g><g class=\"toytree-NodeLabels\" style=\"fill:rgb(14.9%,14.9%,14.9%);fill-opacity:1.0;font-size:9px;stroke:none\"><g transform=\"translate(143.02,200.99)\"><text>6</text></g><g transform=\"translate(143.02,109.21)\"><text>7</text></g><g transform=\"translate(95.26,178.04)\"><text>8</text></g><g transform=\"translate(95.26,86.26)\"><text>9</text></g></g><g class=\"toytree-TipLabels\" style=\"fill:rgb(14.9%,14.9%,14.9%);fill-opacity:1.0;font-family:helvetica;font-size:11px;font-weight:normal;stroke:none;white-space:pre\"><g transform=\"translate(193.28,213.99)rotate(0)\"><text x=\"15.00\" y=\"2.81\" style=\"\">r0</text></g><g transform=\"translate(193.28,183.39)rotate(0)\"><text x=\"15.00\" y=\"2.81\" style=\"\">r1</text></g><g transform=\"translate(193.28,152.80)rotate(0)\"><text x=\"15.00\" y=\"2.81\" style=\"\">r2</text></g><g transform=\"translate(193.28,122.20)rotate(0)\"><text x=\"15.00\" y=\"2.81\" style=\"\">r3</text></g><g transform=\"translate(193.28,91.61)rotate(0)\"><text x=\"15.00\" y=\"2.81\" style=\"\">r4</text></g><g transform=\"translate(193.28,61.01)rotate(0)\"><text x=\"15.00\" y=\"2.81\" style=\"\">r5</text></g></g></g></g></g></svg><div class=\"toyplot-behavior\"><script>(function()\n",
       "{\n",
       "var modules={};\n",
       "})();</script></div></div>"
      ]
     },
     "metadata": {},
     "output_type": "display_data"
    }
   ],
   "source": [
    "# plot shows that idx labels change with rerooting\n",
    "tree.draw(\n",
    "    node_labels='idx',\n",
    "    node_sizes=25,\n",
    ");"
   ]
  },
  {
   "cell_type": "code",
   "execution_count": 37,
   "metadata": {},
   "outputs": [
    {
     "ename": "AttributeError",
     "evalue": "'ToyTree' object has no attribute 'height'",
     "output_type": "error",
     "traceback": [
      "\u001b[0;31m---------------------------------------------------------------------------\u001b[0m",
      "\u001b[0;31mAttributeError\u001b[0m                            Traceback (most recent call last)",
      "\u001b[0;32m<ipython-input-37-4d6d574f16bb>\u001b[0m in \u001b[0;36m<module>\u001b[0;34m\u001b[0m\n\u001b[0;32m----> 1\u001b[0;31m \u001b[0mtree\u001b[0m\u001b[0;34m.\u001b[0m\u001b[0mheight\u001b[0m\u001b[0;34m\u001b[0m\u001b[0;34m\u001b[0m\u001b[0m\n\u001b[0m",
      "\u001b[0;31mAttributeError\u001b[0m: 'ToyTree' object has no attribute 'height'"
     ]
    }
   ],
   "source": [
    "tree.height"
   ]
  },
  {
   "cell_type": "code",
   "execution_count": 44,
   "metadata": {},
   "outputs": [
    {
     "ename": "TypeError",
     "evalue": "'int' object is not iterable",
     "output_type": "error",
     "traceback": [
      "\u001b[0;31m---------------------------------------------------------------------------\u001b[0m",
      "\u001b[0;31mTypeError\u001b[0m                                 Traceback (most recent call last)",
      "\u001b[0;32m<ipython-input-44-5692462db6f6>\u001b[0m in \u001b[0;36m<module>\u001b[0;34m\u001b[0m\n\u001b[1;32m      1\u001b[0m \u001b[0;32mfor\u001b[0m \u001b[0mnode\u001b[0m \u001b[0;32min\u001b[0m \u001b[0mtree\u001b[0m\u001b[0;34m.\u001b[0m\u001b[0mtreenode\u001b[0m\u001b[0;34m.\u001b[0m\u001b[0mtraverse\u001b[0m\u001b[0;34m(\u001b[0m\u001b[0;34m)\u001b[0m\u001b[0;34m:\u001b[0m\u001b[0;34m\u001b[0m\u001b[0;34m\u001b[0m\u001b[0m\n\u001b[0;32m----> 2\u001b[0;31m     \u001b[0mgentime\u001b[0m \u001b[0;34m=\u001b[0m \u001b[0mmax\u001b[0m\u001b[0;34m(\u001b[0m\u001b[0mnode\u001b[0m\u001b[0;34m.\u001b[0m\u001b[0midx\u001b[0m\u001b[0;34m)\u001b[0m\u001b[0;34m\u001b[0m\u001b[0;34m\u001b[0m\u001b[0m\n\u001b[0m",
      "\u001b[0;31mTypeError\u001b[0m: 'int' object is not iterable"
     ]
    }
   ],
   "source": [
    "for node in tree.treenode.traverse():\n",
    "    gentime = max(node.idx)"
   ]
  },
  {
   "cell_type": "code",
   "execution_count": 274,
   "metadata": {},
   "outputs": [
    {
     "name": "stdout",
     "output_type": "stream",
     "text": [
      "[[0 0]\n",
      " [0 1]\n",
      " [1 0]\n",
      " [1 1]]\n"
     ]
    }
   ],
   "source": [
    "data = np.array([[0, 0], [0, 1] , [1, 0] , [1, 1]])\n",
    "print(data)"
   ]
  },
  {
   "cell_type": "code",
   "execution_count": 288,
   "metadata": {},
   "outputs": [
    {
     "name": "stdout",
     "output_type": "stream",
     "text": [
      "[[0, 0], [0, 1], [1, 0], [1, 1]]\n"
     ]
    }
   ],
   "source": [
    "list1 = [[0, 0], [0, 1] , [1, 0] , [1, 1]]\n",
    "print(list1)"
   ]
  },
  {
   "cell_type": "code",
   "execution_count": 50,
   "metadata": {},
   "outputs": [
    {
     "data": {
      "text/plain": [
       "array(['', '', '', '', '', '', '', '', '', '', ''], dtype='<U1')"
      ]
     },
     "execution_count": 50,
     "metadata": {},
     "output_type": "execute_result"
    }
   ],
   "source": [
    "tree.get_node_values('root', 'height')"
   ]
  },
  {
   "cell_type": "code",
   "execution_count": 55,
   "metadata": {},
   "outputs": [
    {
     "ename": "NameError",
     "evalue": "name 'tree_treecrawl' is not defined",
     "output_type": "error",
     "traceback": [
      "\u001b[0;31m---------------------------------------------------------------------------\u001b[0m",
      "\u001b[0;31mNameError\u001b[0m                                 Traceback (most recent call last)",
      "\u001b[0;32m<ipython-input-55-4ef9ef6bc4e3>\u001b[0m in \u001b[0;36m<module>\u001b[0;34m\u001b[0m\n\u001b[0;32m----> 1\u001b[0;31m \u001b[0mpd\u001b[0m\u001b[0;34m.\u001b[0m\u001b[0mDataFrame\u001b[0m\u001b[0;34m(\u001b[0m\u001b[0mtree_treecrawl\u001b[0m\u001b[0;34m.\u001b[0m\u001b[0mdest\u001b[0m\u001b[0;34m)\u001b[0m\u001b[0;34m\u001b[0m\u001b[0;34m\u001b[0m\u001b[0m\n\u001b[0m",
      "\u001b[0;31mNameError\u001b[0m: name 'tree_treecrawl' is not defined"
     ]
    }
   ],
   "source": [
    "pd.DataFrame()"
   ]
  },
  {
   "cell_type": "code",
   "execution_count": null,
   "metadata": {},
   "outputs": [],
   "source": []
  }
 ],
 "metadata": {
  "kernelspec": {
   "display_name": "Python 3",
   "language": "python",
   "name": "python3"
  },
  "language_info": {
   "codemirror_mode": {
    "name": "ipython",
    "version": 3
   },
   "file_extension": ".py",
   "mimetype": "text/x-python",
   "name": "python",
   "nbconvert_exporter": "python",
   "pygments_lexer": "ipython3",
   "version": "3.8.6"
  }
 },
 "nbformat": 4,
 "nbformat_minor": 4
}
